{
  "nbformat": 4,
  "nbformat_minor": 0,
  "metadata": {
    "colab": {
      "provenance": [],
      "authorship_tag": "ABX9TyNcZS0YAbgYnXGhqk2o1izI",
      "include_colab_link": true
    },
    "kernelspec": {
      "name": "python3",
      "display_name": "Python 3"
    },
    "language_info": {
      "name": "python"
    }
  },
  "cells": [
    {
      "cell_type": "markdown",
      "metadata": {
        "id": "view-in-github",
        "colab_type": "text"
      },
      "source": [
        "<a href=\"https://colab.research.google.com/github/negovanovic-e/automatska-kategorizacija-proizvoda/blob/main/03_treniranje_modela.ipynb\" target=\"_parent\"><img src=\"https://colab.research.google.com/assets/colab-badge.svg\" alt=\"Open In Colab\"/></a>"
      ]
    },
    {
      "cell_type": "code",
      "execution_count": null,
      "metadata": {
        "id": "CRmKslF88dx3"
      },
      "outputs": [],
      "source": [
        "import pandas as pd\n",
        "import numpy as np\n",
        "from sklearn.feature_extraction.text import TfidfVectorizer\n",
        "from sklearn.ensemble import RandomForestClassifier\n",
        "from sklearn.linear_model import LogisticRegression\n",
        "from sklearn.svm import SVC\n",
        "from sklearn.model_selection import train_test_split\n",
        "from sklearn.metrics import classification_report, confusion_matrix, accuracy_score\n",
        "from scipy.sparse import hstack\n",
        "import matplotlib.pyplot as plt\n",
        "import seaborn as sns\n",
        "import joblib\n",
        "\n",
        "# Učitaj pripremljene podatke\n",
        "df = pd.read_csv('products_clean.csv')\n",
        "print(\"Učitano proizvoda:\", len(df))"
      ]
    },
    {
      "cell_type": "code",
      "source": [
        "# Priprema podataka za modeliranje\n",
        "# TF-IDF vektorizacija\n",
        "tfidf = TfidfVectorizer(max_features=5000, stop_words='english')\n",
        "X_tfidf = tfidf.fit_transform(df['cleaned_title'])\n",
        "\n",
        "# Kombiniraj s numeričkim značajkama\n",
        "X_combined = hstack([X_tfidf, df[['title_length', 'word_count']].values])\n",
        "y = df['Category Label']\n",
        "\n",
        "print(f\"Dimenzije značajki: {X_combined.shape}\")"
      ],
      "metadata": {
        "id": "mA58MLCp879i"
      },
      "execution_count": null,
      "outputs": []
    },
    {
      "cell_type": "code",
      "source": [
        "# Podjela na train i test skup\n",
        "X_train, X_test, y_train, y_test = train_test_split(\n",
        "    X_combined, y, test_size=0.2, random_state=42, stratify=y\n",
        ")\n",
        "\n",
        "print(f\"Train: {X_train.shape[0]} primjera\")\n",
        "print(f\"Test: {X_test.shape[0]} primjera\")"
      ],
      "metadata": {
        "id": "dErYsqV79FjC"
      },
      "execution_count": null,
      "outputs": []
    },
    {
      "cell_type": "code",
      "source": [
        "# Testiranje različitih modela\n",
        "models = {\n",
        "    'Slučajna šuma': RandomForestClassifier(n_estimators=100, random_state=42),\n",
        "    'Logistička regresija': LogisticRegression(max_iter=1000, random_state=42),\n",
        "    'SVM': SVC(kernel='linear', random_state=42)\n",
        "}\n",
        "\n",
        "results = {}\n",
        "\n",
        "print(\"TRENIRANJE MODELA:\")\n",
        "print(\"=\" * 50)\n",
        "\n",
        "for name, model in models.items():\n",
        "    print(f\"\\nTreniram: {name}\")\n",
        "    model.fit(X_train, y_train)\n",
        "    y_pred = model.predict(X_test)\n",
        "\n",
        "    accuracy = accuracy_score(y_test, y_pred)\n",
        "    results[name] = accuracy\n",
        "\n",
        "    print(f\"Točnost: {accuracy:.2%}\")\n",
        "\n",
        "    # Detaljniji izvještaj za najbolji model\n",
        "    if accuracy == max(results.values()):\n",
        "        print(f\"Detaljni izvještaj za {name}:\")\n",
        "        print(classification_report(y_test, y_pred))"
      ],
      "metadata": {
        "id": "Esx2O7dj9Jy8"
      },
      "execution_count": null,
      "outputs": []
    },
    {
      "cell_type": "code",
      "source": [
        "# Odabir najboljeg modela\n",
        "best_model_name = max(results, key=results.get)\n",
        "best_model = models[best_model_name]\n",
        "\n",
        "print(f\"\\nNAJBOLJI MODEL: {best_model_name}\")\n",
        "print(f\"Točnost: {results[best_model_name]:.2%}\")"
      ],
      "metadata": {
        "id": "ZChM4o7v9Udv"
      },
      "execution_count": null,
      "outputs": []
    },
    {
      "cell_type": "code",
      "source": [
        "# Matrica zabune za najbolji model\n",
        "y_pred_best = best_model.predict(X_test)\n",
        "\n",
        "plt.figure(figsize=(10, 8))\n",
        "cm = confusion_matrix(y_test, y_pred_best)\n",
        "sns.heatmap(cm, annot=True, fmt='d', cmap='Blues')\n",
        "plt.title(f'Matrica zabune - {best_model_name}')\n",
        "plt.ylabel('Stvarna kategorija')\n",
        "plt.xlabel('Predviđena kategorija')\n",
        "plt.show()"
      ],
      "metadata": {
        "id": "pwbJ_98S9Y65"
      },
      "execution_count": null,
      "outputs": []
    },
    {
      "cell_type": "code",
      "source": [
        "# Spremanje modela\n",
        "import os\n",
        "if not os.path.exists('models'):\n",
        "    os.makedirs('models')\n",
        "\n",
        "joblib.dump(best_model, 'models/product_classifier.pkl')\n",
        "joblib.dump(tfidf, 'models/tfidf_vectorizer.pkl')\n",
        "\n",
        "print(\"Model i vektorizier su spremljeni!\")"
      ],
      "metadata": {
        "id": "uLYUJfXg9d_H"
      },
      "execution_count": null,
      "outputs": []
    },
    {
      "cell_type": "code",
      "source": [
        "# Testiranje na primjerima iz zadatka\n",
        "test_products = [\n",
        "    \"iphone 7 32gb gold\",\n",
        "    \"olympus e m10 mark iii\",\n",
        "    \"kenwood k20mss15 solo\",\n",
        "    \"bosch wap28390gb 8kg 1400 spin\"\n",
        "]\n",
        "\n",
        "expected = [\"Mobile Phones\", \"Digital Cameras\", \"Microwaves\", \"Washing Machines\"]\n",
        "\n",
        "print(\"\\nTESTIRANJE NA PRIMJERIMA IZ ZADATKA:\")\n",
        "for product, expected_cat in zip(test_products, expected):\n",
        "    # Preprocesiranje\n",
        "    cleaned = preprocess_text(product)\n",
        "\n",
        "    # Značajke\n",
        "    title_len = len(cleaned)\n",
        "    word_cnt = len(cleaned.split())\n",
        "\n",
        "    # TF-IDF\n",
        "    X_tfidf_test = tfidf.transform([cleaned])\n",
        "    X_combined_test = hstack([X_tfidf_test, [[title_len, word_cnt]]])\n",
        "\n",
        "    # Predikcija\n",
        "    prediction = best_model.predict(X_combined_test)\n",
        "    probability = best_model.predict_proba(X_combined_test).max()\n",
        "\n",
        "    status = \"✅\" if prediction[0] == expected_cat else \"❌\"\n",
        "    print(f\"{status} {product}\")\n",
        "    print(f\"   Očekivano: {expected_cat}\")\n",
        "    print(f\"   Predviđeno: {prediction[0]} ({probability:.2%})\")\n",
        "    print()\n",
        "\n",
        "print(\"Treniranje modela završeno!\")"
      ],
      "metadata": {
        "id": "Fk08Ij0x9hYk"
      },
      "execution_count": null,
      "outputs": []
    }
  ]
}