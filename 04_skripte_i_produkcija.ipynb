{
  "nbformat": 4,
  "nbformat_minor": 0,
  "metadata": {
    "colab": {
      "provenance": [],
      "authorship_tag": "ABX9TyNJsb2hHyqmbAQWDxPmI5f5",
      "include_colab_link": true
    },
    "kernelspec": {
      "name": "python3",
      "display_name": "Python 3"
    },
    "language_info": {
      "name": "python"
    }
  },
  "cells": [
    {
      "cell_type": "markdown",
      "metadata": {
        "id": "view-in-github",
        "colab_type": "text"
      },
      "source": [
        "<a href=\"https://colab.research.google.com/github/negovanovic-e/automatska-kategorizacija-proizvoda/blob/main/04_skripte_i_produkcija.ipynb\" target=\"_parent\"><img src=\"https://colab.research.google.com/assets/colab-badge.svg\" alt=\"Open In Colab\"/></a>"
      ]
    },
    {
      "cell_type": "code",
      "execution_count": 1,
      "metadata": {
        "colab": {
          "base_uri": "https://localhost:8080/"
        },
        "id": "IuRaGn025rvB",
        "outputId": "383ea753-116e-4bd2-fc4f-6d7331ab93ec"
      },
      "outputs": [
        {
          "output_type": "stream",
          "name": "stdout",
          "text": [
            "✅ train_model.py je kreiran u folderu 'scripts'\n"
          ]
        }
      ],
      "source": [
        "# Direktorij za skripte\n",
        "import os\n",
        "if not os.path.exists('scripts'):\n",
        "    os.makedirs('scripts')\n",
        "\n",
        "# SKRIPTA 1: train_model.py\n",
        "train_script = '''\n",
        "import pandas as pd\n",
        "import re\n",
        "from sklearn.feature_extraction.text import TfidfVectorizer\n",
        "from sklearn.ensemble import RandomForestClassifier\n",
        "from sklearn.model_selection import train_test_split\n",
        "from scipy.sparse import hstack\n",
        "import joblib\n",
        "import os\n",
        "\n",
        "def preprocess_text(text):\n",
        "    \"\"\"Funkcija za preprocesiranje teksta naziva proizvoda\"\"\"\n",
        "    if pd.isna(text):\n",
        "        return \"\"\n",
        "    text = str(text).lower()\n",
        "    text = re.sub(r'[^\\\\w\\\\s]', ' ', text)\n",
        "    text = re.sub(r'\\\\d+', '', text)\n",
        "    text = re.sub(r'\\\\s+', ' ', text).strip()\n",
        "    return text\n",
        "\n",
        "def train_model():\n",
        "    \"\"\"Glavna funkcija za treniranje modela\"\"\"\n",
        "    print(\" POČINJEM TRENIRANJE MODELA...\")\n",
        "\n",
        "    # Učitavanje podataka\n",
        "    df = pd.read_csv('products.csv')\n",
        "    print(f\"Učitano {len(df)} proizvoda\")\n",
        "\n",
        "    # Čišćenje naziva stupaca\n",
        "    df.columns = df.columns.str.strip()\n",
        "\n",
        "    # Uklanjanje redova s nedostajućim podacima\n",
        "    df = df.dropna(subset=['Product Title', 'Category Label'])\n",
        "    print(f\" Nakon čišćenja: {len(df)} proizvoda\")\n",
        "\n",
        "    # Preprocesiranje teksta\n",
        "    df['cleaned_title'] = df['Product Title'].apply(preprocess_text)\n",
        "\n",
        "    # Inženjering značajki\n",
        "    df['title_length'] = df['cleaned_title'].apply(len)\n",
        "    df['word_count'] = df['cleaned_title'].apply(lambda x: len(x.split()))\n",
        "\n",
        "    # TF-IDF vektorizacija\n",
        "    tfidf = TfidfVectorizer(max_features=5000, stop_words='english')\n",
        "    X_tfidf = tfidf.fit_transform(df['cleaned_title'])\n",
        "\n",
        "    # Kombinacija značajki\n",
        "    X_combined = hstack([X_tfidf, df[['title_length', 'word_count']].values])\n",
        "    y = df['Category Label']\n",
        "\n",
        "    # Podjela podataka\n",
        "    X_train, X_test, y_train, y_test = train_test_split(\n",
        "        X_combined, y, test_size=0.2, random_state=42, stratify=y\n",
        "    )\n",
        "\n",
        "    # Treniranje modela\n",
        "    model = RandomForestClassifier(n_estimators=100, random_state=42)\n",
        "    model.fit(X_train, y_train)\n",
        "\n",
        "    # Evaluacija\n",
        "    accuracy = model.score(X_test, y_test)\n",
        "    print(f\"TOČNOST MODELA: {accuracy:.2%}\")\n",
        "\n",
        "    # Kreiranje direktorija za modele\n",
        "    if not os.path.exists('models'):\n",
        "        os.makedirs('models')\n",
        "\n",
        "    # Spremanje modela\n",
        "    joblib.dump(model, 'models/product_classifier.pkl')\n",
        "    joblib.dump(tfidf, 'models/tfidf_vectorizer.pkl')\n",
        "\n",
        "    print(\" MODEL JE USPIJEŠNO SPREMLJEN!\")\n",
        "\n",
        "if __name__ == \"__main__\":\n",
        "    train_model()\n",
        "'''\n",
        "\n",
        "# Spremi skriptu\n",
        "with open('scripts/train_model.py', 'w') as f:\n",
        "    f.write(train_script)\n",
        "\n",
        "print(\"✅ train_model.py je kreiran u folderu 'scripts'\")"
      ]
    },
    {
      "cell_type": "code",
      "source": [
        "# SKRIPTA 2: predict_category.py\n",
        "predict_script = '''\n",
        "import joblib\n",
        "import re\n",
        "import pandas as pd\n",
        "from scipy.sparse import hstack\n",
        "\n",
        "def preprocess_text(text):\n",
        "    \"\"\"Funkcija za preprocesiranje teksta\"\"\"\n",
        "    text = str(text).lower()\n",
        "    text = re.sub(r'[^\\\\w\\\\s]', ' ', text)\n",
        "    text = re.sub(r'\\\\d+', '', text)\n",
        "    text = re.sub(r'\\\\s+', ' ', text).strip()\n",
        "    return text\n",
        "\n",
        "def predict_category(product_title):\n",
        "    \"\"\"Funkcija za predikciju kategorije proizvoda\"\"\"\n",
        "    try:\n",
        "        # Učitavanje modela i vektorizera\n",
        "        model = joblib.load('models/product_classifier.pkl')\n",
        "        tfidf = joblib.load('models/tfidf_vectorizer.pkl')\n",
        "\n",
        "        # Preprocesiranje unesenog teksta\n",
        "        cleaned_title = preprocess_text(product_title)\n",
        "\n",
        "        # Kreiranje značajki\n",
        "        title_length = len(cleaned_title)\n",
        "        word_count = len(cleaned_title.split())\n",
        "\n",
        "        # TF-IDF transformacija\n",
        "        X_tfidf = tfidf.transform([cleaned_title])\n",
        "\n",
        "        # Kombinacija značajki\n",
        "        X_combined = hstack([X_tfidf, [[title_length, word_count]]])\n",
        "\n",
        "        # Predikcija\n",
        "        prediction = model.predict(X_combined)\n",
        "        probability = model.predict_proba(X_combined).max()\n",
        "\n",
        "        return prediction[0], probability\n",
        "    except FileNotFoundError:\n",
        "        return \"Model nije pronađen. Prvo pokrenite train_model.py\", 0.0\n",
        "    except Exception as e:\n",
        "        return f\"Greška: {e}\", 0.0\n",
        "\n",
        "def main():\n",
        "    \"\"\"Glavna funkcija za interaktivno testiranje\"\"\"\n",
        "    print(\"=== SUSTAV ZA AUTOMATSKU KLASIFIKACIJU PROIZVODA ===\")\n",
        "    print(\"Unesite naziv proizvoda za klasifikaciju (ili 'quit' za izlaz):\")\n",
        "\n",
        "    while True:\n",
        "        user_input = input(\"\\\\n Naziv proizvoda: \")\n",
        "\n",
        "        if user_input.lower() == 'quit':\n",
        "            print(\" Hvala na korištenju!\")\n",
        "            break\n",
        "\n",
        "        if user_input.strip() == \"\":\n",
        "            print(\" Molimo unesite naziv proizvoda.\")\n",
        "            continue\n",
        "\n",
        "        category, confidence = predict_category(user_input)\n",
        "        print(f\"Predložena kategorija: {category}\")\n",
        "        print(f\"Vjerojatnost: {confidence:.2%}\")\n",
        "\n",
        "if __name__ == \"__main__\":\n",
        "    main()\n",
        "'''\n",
        "\n",
        "with open('scripts/predict_category.py', 'w') as f:\n",
        "    f.write(predict_script)\n",
        "\n",
        "print(\"✅ predict_category.py je kreiran u folderu 'scripts'\")"
      ],
      "metadata": {
        "colab": {
          "base_uri": "https://localhost:8080/"
        },
        "id": "ODKalLlc59XS",
        "outputId": "c68f08a0-0ebc-4c54-bfb8-66beb0b2a22d"
      },
      "execution_count": 2,
      "outputs": [
        {
          "output_type": "stream",
          "name": "stdout",
          "text": [
            "✅ predict_category.py je kreiran u folderu 'scripts'\n"
          ]
        }
      ]
    }
  ]
}